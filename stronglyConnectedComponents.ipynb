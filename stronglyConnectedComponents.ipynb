{
 "cells": [
  {
   "cell_type": "markdown",
   "metadata": {},
   "source": [
    "KOSARAJU'S ALGO"
   ]
  },
  {
   "cell_type": "markdown",
   "metadata": {},
   "source": [
    "Following is Kosaraju’s DFS based simple algorithm that does two DFS traversals of graph: \n",
    "\n",
    "    1. Initialize all vertices as not visited.\n",
    "    2. Do a DFS traversal of graph starting from any arbitrary vertex v. If DFS traversal doesn’t visit all vertices, then return false.\n",
    "    3. Reverse all arcs (or find transpose or reverse of graph) \n",
    "    4. Mark all vertices as not-visited in reversed graph.\n",
    "    5. Do a DFS traversal of reversed graph starting from the vertex that finished first. (Stack.pop())"
   ]
  },
  {
   "cell_type": "code",
   "execution_count": 9,
   "metadata": {},
   "outputs": [],
   "source": [
    "graph = {\n",
    "    0 : [1],\n",
    "    1 : [2,3],\n",
    "    2 : [3,5],\n",
    "    3 : [0,4],\n",
    "    4 : [5],\n",
    "    5 : [6],\n",
    "    6 : [4],\n",
    "    \n",
    "}\n",
    "graph = [[1],[2,3],[3,5],[0,4],[5],[6],[4]]\n",
    "nodes = 7"
   ]
  },
  {
   "cell_type": "code",
   "execution_count": 12,
   "metadata": {},
   "outputs": [
    {
     "name": "stdout",
     "output_type": "stream",
     "text": [
      "[[1], [2, 3], [3, 5], [0, 4], [5], [6], [4]]\n",
      "0 1 2 3 \n",
      "4 5 6 \n"
     ]
    }
   ],
   "source": [
    "#DFS\n",
    "def DFS(graph, node, visited, stack):\n",
    "  visited[node] = True\n",
    "  for i in graph[node]:\n",
    "    if not visited[i]:\n",
    "      DFS(graph, i, visited, stack)\n",
    "  stack.append(node)  #first one to finish appends first\n",
    "\n",
    "\n",
    "#Transpose\n",
    "def transpose(graph):\n",
    "  transpose = [[] for i in range(len(graph))]\n",
    "  for i in range(len(graph)):\n",
    "    for j in graph[i]:\n",
    "      transpose[j].append(i)\n",
    "  return transpose\n",
    "\n",
    "#Func: compare(DFS(graph),DFS(transpose))\n",
    "def find_scc(graph):\n",
    "  n = len(graph)\n",
    "  visited = [False] * n\n",
    "  stack = []\n",
    "\n",
    "  # DFS\n",
    "  for vertex in range(n):\n",
    "      if not visited[vertex]:\n",
    "          DFS(graph, vertex, visited, stack)\n",
    "\n",
    "  # Transpose\n",
    "  transposed_graph = transpose(graph)\n",
    "\n",
    "  # DFS on Transpose\n",
    "  visited = [False] * n\n",
    "  output = []\n",
    "  while stack:\n",
    "      vertex = stack.pop()\n",
    "      if not visited[vertex]:\n",
    "          scc = []\n",
    "          DFS(transposed_graph, vertex, visited, scc)\n",
    "          output.append(scc)\n",
    "\n",
    "  return output\n",
    "print(graph)\n",
    "#Print the output\n",
    "output = sorted(find_scc(graph))\n",
    "for x in range(len(output)):\n",
    "  temp=sorted(output[x])\n",
    "  for y in range(len(temp)):\n",
    "    print(temp[y], end=\" \")\n",
    "  print()\n"
   ]
  },
  {
   "cell_type": "markdown",
   "metadata": {},
   "source": [
    "TARJAN'S ALGO"
   ]
  },
  {
   "cell_type": "markdown",
   "metadata": {},
   "source": [
    "https://www.geeksforgeeks.org/tarjan-algorithm-find-strongly-connected-components/"
   ]
  }
 ],
 "metadata": {
  "kernelspec": {
   "display_name": "Python 3",
   "language": "python",
   "name": "python3"
  },
  "language_info": {
   "codemirror_mode": {
    "name": "ipython",
    "version": 3
   },
   "file_extension": ".py",
   "mimetype": "text/x-python",
   "name": "python",
   "nbconvert_exporter": "python",
   "pygments_lexer": "ipython3",
   "version": "3.11.3"
  }
 },
 "nbformat": 4,
 "nbformat_minor": 2
}
