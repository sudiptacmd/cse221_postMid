{
 "cells": [
  {
   "cell_type": "markdown",
   "metadata": {},
   "source": [
    "PRIM's ALGORITHM vs KRUSKAL'S ALGORITHM"
   ]
  },
  {
   "cell_type": "markdown",
   "metadata": {},
   "source": [
    "Prim's algo:\n",
    "    - Select the least cost edge\n",
    "    - Keep selecting the least cost edge adjacent to the selected edges\n",
    "\n",
    "Kruskal's algo:\n",
    "    - Keep selecting the least cost edge unless it creates a cycle"
   ]
  },
  {
   "cell_type": "markdown",
   "metadata": {},
   "source": [
    "What is a minimum spanning tree?\n",
    ": A tree of a graph that takes the least cost to traverse through. It's a maximization problem so there shall only be 1 possible answer for each problem. That answer may include multiple variants though."
   ]
  },
  {
   "cell_type": "markdown",
   "metadata": {},
   "source": [
    "PRIM'S ALGO"
   ]
  },
  {
   "cell_type": "markdown",
   "metadata": {},
   "source": []
  }
 ],
 "metadata": {
  "language_info": {
   "name": "python"
  }
 },
 "nbformat": 4,
 "nbformat_minor": 2
}
