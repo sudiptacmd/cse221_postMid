{
 "cells": [
  {
   "cell_type": "markdown",
   "metadata": {},
   "source": [
    "Algorithm for Topological Sorting using DFS:\n",
    "Here’s a step-by-step algorithm for topological sorting using Depth First Search (DFS):\n",
    "\n",
    "    Create a graph with n vertices and m-directed edges.\n",
    "    Initialize a stack and a visited array of size n.\n",
    "    For each unvisited vertex in the graph, do the following:\n",
    "        - Call the DFS function with the vertex as the parameter.\n",
    "        - In the DFS function, mark the vertex as visited and recursively call the DFS function for all unvisited neighbors of - the vertex.\n",
    "        Once all the neighbors have been visited, push the vertex onto the stack.\n",
    "    After all, vertices have been visited, pop elements from the stack and append them to the output list until the stack is empty.\n",
    "    The resulting list is the topologically sorted order of the graph.\n"
   ]
  },
  {
   "cell_type": "code",
   "execution_count": 28,
   "metadata": {},
   "outputs": [],
   "source": [
    "graph = {\n",
    "    0 : [],\n",
    "    1 : [],\n",
    "    2 : [3],\n",
    "    3 : [1],\n",
    "    4 : [0,1],\n",
    "    5 : [0,2]\n",
    "}\n",
    "nodes = 6"
   ]
  },
  {
   "cell_type": "code",
   "execution_count": 31,
   "metadata": {},
   "outputs": [],
   "source": [
    "graph = {\n",
    "    0 : [2,6,3],\n",
    "    1 : [4],\n",
    "    2 : [6],\n",
    "    3 : [1,4],\n",
    "    4 : [5,8],\n",
    "    5 : [],\n",
    "    6 : [7,11],\n",
    "    7 : [12,4],\n",
    "    8 : [],\n",
    "    9 : [2,10],\n",
    "    10: [6],\n",
    "    11: [12],\n",
    "    12: [8],\n",
    "    13: []\n",
    "}\n",
    "nodes = 14"
   ]
  },
  {
   "cell_type": "code",
   "execution_count": 27,
   "metadata": {},
   "outputs": [
    {
     "data": {
      "text/plain": [
       "False"
      ]
     },
     "execution_count": 27,
     "metadata": {},
     "output_type": "execute_result"
    }
   ],
   "source": [
    "##BONUS: CYCLE DETECTION\n",
    "\n",
    "def dfsCheck(graph,node,visited,path):\n",
    "    visited[node] = True\n",
    "    path[node] = True  #This checks if the visited node is on the traversal path\n",
    "    for neighbor in graph[node]:\n",
    "        if not visited[neighbor]:\n",
    "            if dfsCheck(graph,neighbor,visited,path):\n",
    "                return True\n",
    "        elif path[neighbor]:\n",
    "            return True\n",
    "    path[node]=False\n",
    "    return False\n",
    "        \n",
    "    \n",
    "\n",
    "def cycleCheck(graph,nodes):\n",
    "    visited = [False]*nodes\n",
    "    pathVisited = [False]*nodes\n",
    "    for node in range(nodes):\n",
    "        if not visited[node]:\n",
    "            if dfsCheck(graph,node,visited,pathVisited):\n",
    "                return True\n",
    "    return False\n",
    "        \n",
    "cycleCheck(graph,nodes)"
   ]
  },
  {
   "cell_type": "code",
   "execution_count": 33,
   "metadata": {},
   "outputs": [
    {
     "name": "stdout",
     "output_type": "stream",
     "text": [
      "[8, 12, 5, 4, 7, 11, 6, 2, 1, 3, 0, 10, 9, 13]\n"
     ]
    }
   ],
   "source": [
    "#TOP_SORT USING DFS\n",
    "def pushStack(curr_node,graph,visited,stack):\n",
    "    visited[curr_node] = True\n",
    "    for neighbor in graph[curr_node]:\n",
    "        if not visited[neighbor]:\n",
    "            pushStack(neighbor,graph,visited,stack)\n",
    "    stack.append(curr_node)\n",
    "    \n",
    "def topologicalSort(graph,nodes):\n",
    "    stack = []\n",
    "    visited = [False]*nodes\n",
    "    for i in range(nodes):\n",
    "        if not visited[i]:\n",
    "            pushStack(i,graph,visited,stack)\n",
    "    \n",
    "    \n",
    "    print(stack) #have to reverse this\n",
    "topologicalSort(graph,nodes)\n"
   ]
  },
  {
   "cell_type": "markdown",
   "metadata": {},
   "source": [
    "Kahn’s algorithm for Topological Sorting\n",
    "\n",
    "    Add all nodes with in-degree 0 to a queue.\n",
    "    While the queue is not empty:\n",
    "        Remove a node from the queue.\n",
    "        For each outgoing edge from the removed node, decrement the in-degree of the destination node by 1.\n",
    "        If the in-degree of a destination node becomes 0, add it to the queue.\n",
    "    If the queue is empty and there are still nodes in the graph, the graph contains a cycle and cannot be topologically sorted.\n",
    "    The nodes in the queue represent the topological ordering of the graph."
   ]
  },
  {
   "cell_type": "code",
   "execution_count": 38,
   "metadata": {},
   "outputs": [
    {
     "name": "stdout",
     "output_type": "stream",
     "text": [
      "[0, 9, 13, 3, 2, 10, 1, 6, 7, 11, 4, 12, 5, 8]\n"
     ]
    }
   ],
   "source": [
    "from collections import deque\n",
    "def kahn_top_sort(graph,nodes):\n",
    "    in_degree = [0]*nodes\n",
    "    sort = []\n",
    "    for node_list in graph.values():\n",
    "        for node in node_list:\n",
    "            in_degree[node]+=1\n",
    "    queue = deque()\n",
    "    for node in range(len(in_degree)):\n",
    "        if in_degree[node]==0:\n",
    "            queue.append(node)\n",
    "    while queue:\n",
    "        now_at = queue.popleft()\n",
    "        sort.append(now_at)\n",
    "        for neighbor in graph[now_at]:\n",
    "            in_degree[neighbor] -=1\n",
    "            if in_degree[neighbor]==0:\n",
    "                queue.append(neighbor)\n",
    "    print(sort)\n",
    "kahn_top_sort(graph,nodes)"
   ]
  }
 ],
 "metadata": {
  "kernelspec": {
   "display_name": "Python 3",
   "language": "python",
   "name": "python3"
  },
  "language_info": {
   "codemirror_mode": {
    "name": "ipython",
    "version": 3
   },
   "file_extension": ".py",
   "mimetype": "text/x-python",
   "name": "python",
   "nbconvert_exporter": "python",
   "pygments_lexer": "ipython3",
   "version": "3.11.3"
  }
 },
 "nbformat": 4,
 "nbformat_minor": 2
}
