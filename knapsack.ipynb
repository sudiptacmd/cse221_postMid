{
 "cells": [
  {
   "cell_type": "markdown",
   "metadata": {},
   "source": [
    "Only Recursion"
   ]
  },
  {
   "cell_type": "code",
   "execution_count": null,
   "metadata": {},
   "outputs": [],
   "source": [
    "# A naive recursive implementation \n",
    "# of 0-1 Knapsack Problem \n",
    "\n",
    "# Returns the maximum value that \n",
    "# can be put in a knapsack of \n",
    "# capacity W \n",
    "\n",
    "\n",
    "def knapSack(W, wt, val, n): \n",
    "\n",
    "\t# Base Case \n",
    "\tif n == 0 or W == 0: \n",
    "\t\treturn 0\n",
    "\n",
    "\t# If weight of the nth item is \n",
    "\t# more than Knapsack of capacity W, \n",
    "\t# then this item cannot be included \n",
    "\t# in the optimal solution \n",
    "\tif (wt[n-1] > W): \n",
    "\t\treturn knapSack(W, wt, val, n-1) \n",
    "\n",
    "\t# return the maximum of two cases: \n",
    "\t# (1) nth item included \n",
    "\t# (2) not included \n",
    "\telse: \n",
    "\t\treturn max( \n",
    "\t\t\tval[n-1] + knapSack( \n",
    "\t\t\t\tW-wt[n-1], wt, val, n-1), \n",
    "\t\t\tknapSack(W, wt, val, n-1)) \n",
    "\n",
    "# end of function knapSack \n",
    "\n",
    "\n",
    "# Driver Code \n",
    "if __name__ == '__main__': \n",
    "\tprofit = [60, 100, 120] \n",
    "\tweight = [10, 20, 30] \n",
    "\tW = 50\n",
    "\tn = len(profit) \n",
    "\tprint knapSack(W, weight, profit, n) \n",
    "\n",
    "# This code is contributed by Nikhil Kumar Singh \n"
   ]
  },
  {
   "cell_type": "markdown",
   "metadata": {},
   "source": [
    "Recursion + Memoization"
   ]
  },
  {
   "cell_type": "code",
   "execution_count": null,
   "metadata": {},
   "outputs": [],
   "source": [
    "# A Dynamic Programming based Python \n",
    "# Program for 0-1 Knapsack problem \n",
    "# Returns the maximum value that can \n",
    "# be put in a knapsack of capacity W \n",
    "\n",
    "\n",
    "def knapSack(W, wt, val, n): \n",
    "\tK = [[0 for x in range(W + 1)] for x in range(n + 1)] \n",
    "\n",
    "\t# Build table K[][] in bottom up manner \n",
    "\tfor i in range(n + 1): \n",
    "\t\tfor w in range(W + 1): \n",
    "\t\t\tif i == 0 or w == 0: \n",
    "\t\t\t\tK[i][w] = 0\n",
    "\t\t\telif wt[i-1] <= w: \n",
    "\t\t\t\tK[i][w] = max(val[i-1] \n",
    "\t\t\t\t\t\t\t+ K[i-1][w-wt[i-1]], \n",
    "\t\t\t\t\t\t\tK[i-1][w]) \n",
    "\t\t\telse: \n",
    "\t\t\t\tK[i][w] = K[i-1][w] \n",
    "\n",
    "\treturn K[n][W] \n",
    "\n",
    "\n",
    "# Driver code \n",
    "if __name__ == '__main__': \n",
    "\tprofit = [60, 100, 120] \n",
    "\tweight = [10, 20, 30] \n",
    "\tW = 50\n",
    "\tn = len(profit) \n",
    "\tprint(knapSack(W, weight, profit, n)) \n",
    "\n",
    "# This code is contributed by Bhavya Jain \n"
   ]
  }
 ],
 "metadata": {
  "kernelspec": {
   "display_name": "Python 3",
   "language": "python",
   "name": "python3"
  },
  "language_info": {
   "name": "python",
   "version": "3.11.3"
  }
 },
 "nbformat": 4,
 "nbformat_minor": 2
}
